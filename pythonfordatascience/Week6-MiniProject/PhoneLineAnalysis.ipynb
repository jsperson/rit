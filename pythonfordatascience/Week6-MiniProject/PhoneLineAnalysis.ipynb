{
 "cells": [
  {
   "cell_type": "markdown",
   "metadata": {},
   "source": [
    "# Phone Lines vs. Per Captia GDP"
   ]
  },
  {
   "cell_type": "code",
   "execution_count": 34,
   "metadata": {
    "collapsed": true
   },
   "outputs": [],
   "source": [
    "import pandas as pd\n",
    "import numpy as np\n",
    "import sqlite3\n",
    "import matplotlib.pyplot as plt"
   ]
  },
  {
   "cell_type": "markdown",
   "metadata": {},
   "source": [
    "## Get all of the data into a dataframe using sqllite"
   ]
  },
  {
   "cell_type": "code",
   "execution_count": 35,
   "metadata": {
    "nbgrader": {
     "grade": false,
     "grade_id": "c2c",
     "locked": true,
     "schema_version": 1,
     "solution": false
    }
   },
   "outputs": [],
   "source": [
    "#%%timeit -n1 -r5 -o\n",
    "# Query the WDI database and pull the indicators into df\n",
    "# I'm tempted to use SQL instead of Pandas to do all of the data prep, but that would defeat the purpose...\n",
    "\n",
    "def get_data():\n",
    "    sql = \"SELECT * FROM Indicators\"\n",
    "    cnx = sqlite3.connect('../Week5-Visualization/world-development-indicators/database.sqlite')\n",
    "    df = pd.read_sql_query(sql, cnx)\n",
    "    cnx.close\n",
    "    return df\n",
    "\n",
    "df = get_data()"
   ]
  },
  {
   "cell_type": "markdown",
   "metadata": {},
   "source": [
    "## Find the GDP field of interest"
   ]
  },
  {
   "cell_type": "code",
   "execution_count": 36,
   "metadata": {},
   "outputs": [
    {
     "data": {
      "text/html": [
       "<div>\n",
       "<style scoped>\n",
       "    .dataframe tbody tr th:only-of-type {\n",
       "        vertical-align: middle;\n",
       "    }\n",
       "\n",
       "    .dataframe tbody tr th {\n",
       "        vertical-align: top;\n",
       "    }\n",
       "\n",
       "    .dataframe thead th {\n",
       "        text-align: right;\n",
       "    }\n",
       "</style>\n",
       "<table border=\"1\" class=\"dataframe\">\n",
       "  <thead>\n",
       "    <tr style=\"text-align: right;\">\n",
       "      <th></th>\n",
       "      <th>IndicatorName</th>\n",
       "      <th>IndicatorCode</th>\n",
       "    </tr>\n",
       "  </thead>\n",
       "  <tbody>\n",
       "    <tr>\n",
       "      <th>95</th>\n",
       "      <td>GDP per capita (current US$)</td>\n",
       "      <td>NY.GDP.PCAP.CD</td>\n",
       "    </tr>\n",
       "    <tr>\n",
       "      <th>263</th>\n",
       "      <td>GDP per capita (constant 2005 US$)</td>\n",
       "      <td>NY.GDP.PCAP.KD</td>\n",
       "    </tr>\n",
       "    <tr>\n",
       "      <th>3524</th>\n",
       "      <td>GDP per capita (current LCU)</td>\n",
       "      <td>NY.GDP.PCAP.CN</td>\n",
       "    </tr>\n",
       "    <tr>\n",
       "      <th>3698</th>\n",
       "      <td>GDP per capita (constant LCU)</td>\n",
       "      <td>NY.GDP.PCAP.KN</td>\n",
       "    </tr>\n",
       "    <tr>\n",
       "      <th>23501</th>\n",
       "      <td>GDP per capita growth (annual %)</td>\n",
       "      <td>NY.GDP.PCAP.KD.ZG</td>\n",
       "    </tr>\n",
       "    <tr>\n",
       "      <th>578806</th>\n",
       "      <td>Government expenditure per secondary student a...</td>\n",
       "      <td>SE.XPD.SECO.PC.ZS</td>\n",
       "    </tr>\n",
       "    <tr>\n",
       "      <th>596776</th>\n",
       "      <td>Government expenditure per primary student as ...</td>\n",
       "      <td>SE.XPD.PRIM.PC.ZS</td>\n",
       "    </tr>\n",
       "    <tr>\n",
       "      <th>1321639</th>\n",
       "      <td>Government expenditure per tertiary student as...</td>\n",
       "      <td>SE.XPD.TERT.PC.ZS</td>\n",
       "    </tr>\n",
       "    <tr>\n",
       "      <th>1880518</th>\n",
       "      <td>GDP per capita, PPP (constant 2011 internation...</td>\n",
       "      <td>NY.GDP.PCAP.PP.KD</td>\n",
       "    </tr>\n",
       "    <tr>\n",
       "      <th>1880519</th>\n",
       "      <td>GDP per capita, PPP (current international $)</td>\n",
       "      <td>NY.GDP.PCAP.PP.CD</td>\n",
       "    </tr>\n",
       "  </tbody>\n",
       "</table>\n",
       "</div>"
      ],
      "text/plain": [
       "                                             IndicatorName      IndicatorCode\n",
       "95                            GDP per capita (current US$)     NY.GDP.PCAP.CD\n",
       "263                     GDP per capita (constant 2005 US$)     NY.GDP.PCAP.KD\n",
       "3524                          GDP per capita (current LCU)     NY.GDP.PCAP.CN\n",
       "3698                         GDP per capita (constant LCU)     NY.GDP.PCAP.KN\n",
       "23501                     GDP per capita growth (annual %)  NY.GDP.PCAP.KD.ZG\n",
       "578806   Government expenditure per secondary student a...  SE.XPD.SECO.PC.ZS\n",
       "596776   Government expenditure per primary student as ...  SE.XPD.PRIM.PC.ZS\n",
       "1321639  Government expenditure per tertiary student as...  SE.XPD.TERT.PC.ZS\n",
       "1880518  GDP per capita, PPP (constant 2011 internation...  NY.GDP.PCAP.PP.KD\n",
       "1880519      GDP per capita, PPP (current international $)  NY.GDP.PCAP.PP.CD"
      ]
     },
     "execution_count": 36,
     "metadata": {},
     "output_type": "execute_result"
    }
   ],
   "source": [
    "gdpfilter = df['IndicatorName'].str.contains('GDP') & df['IndicatorName'].str.contains('per capita')\n",
    "df[gdpfilter][['IndicatorName','IndicatorCode']].drop_duplicates()"
   ]
  },
  {
   "cell_type": "markdown",
   "metadata": {},
   "source": [
    "Going with 263 GDP per capita (constant 2005 US$) NY.GDP.PCAP.KD as it is constant dollars in case we want to analyze over time."
   ]
  },
  {
   "cell_type": "code",
   "execution_count": 37,
   "metadata": {},
   "outputs": [],
   "source": [
    "gdpfilter = df['IndicatorCode'] == 'NY.GDP.PCAP.KD'"
   ]
  },
  {
   "cell_type": "markdown",
   "metadata": {},
   "source": [
    "## Find telephone field(s) of interest"
   ]
  },
  {
   "cell_type": "code",
   "execution_count": 38,
   "metadata": {},
   "outputs": [
    {
     "data": {
      "text/html": [
       "<div>\n",
       "<style scoped>\n",
       "    .dataframe tbody tr th:only-of-type {\n",
       "        vertical-align: middle;\n",
       "    }\n",
       "\n",
       "    .dataframe tbody tr th {\n",
       "        vertical-align: top;\n",
       "    }\n",
       "\n",
       "    .dataframe thead th {\n",
       "        text-align: right;\n",
       "    }\n",
       "</style>\n",
       "<table border=\"1\" class=\"dataframe\">\n",
       "  <thead>\n",
       "    <tr style=\"text-align: right;\">\n",
       "      <th></th>\n",
       "      <th>IndicatorName</th>\n",
       "      <th>IndicatorCode</th>\n",
       "    </tr>\n",
       "  </thead>\n",
       "  <tbody>\n",
       "    <tr>\n",
       "      <th>15</th>\n",
       "      <td>Fixed telephone subscriptions</td>\n",
       "      <td>IT.MLT.MAIN</td>\n",
       "    </tr>\n",
       "    <tr>\n",
       "      <th>16</th>\n",
       "      <td>Fixed telephone subscriptions (per 100 people)</td>\n",
       "      <td>IT.MLT.MAIN.P2</td>\n",
       "    </tr>\n",
       "    <tr>\n",
       "      <th>48</th>\n",
       "      <td>Mobile cellular subscriptions</td>\n",
       "      <td>IT.CEL.SETS</td>\n",
       "    </tr>\n",
       "    <tr>\n",
       "      <th>49</th>\n",
       "      <td>Mobile cellular subscriptions (per 100 people)</td>\n",
       "      <td>IT.CEL.SETS.P2</td>\n",
       "    </tr>\n",
       "  </tbody>\n",
       "</table>\n",
       "</div>"
      ],
      "text/plain": [
       "                                     IndicatorName   IndicatorCode\n",
       "15                   Fixed telephone subscriptions     IT.MLT.MAIN\n",
       "16  Fixed telephone subscriptions (per 100 people)  IT.MLT.MAIN.P2\n",
       "48                   Mobile cellular subscriptions     IT.CEL.SETS\n",
       "49  Mobile cellular subscriptions (per 100 people)  IT.CEL.SETS.P2"
      ]
     },
     "execution_count": 38,
     "metadata": {},
     "output_type": "execute_result"
    }
   ],
   "source": [
    "fixedphonefilter = df['IndicatorName'].str.contains('phone')\n",
    "cellphonefilter = df['IndicatorName'].str.contains('Mobile')\n",
    "df[fixedphonefilter | cellphonefilter][['IndicatorName','IndicatorCode']].drop_duplicates()"
   ]
  },
  {
   "cell_type": "markdown",
   "metadata": {},
   "source": [
    "Going to use IT.MLT.MAIN.P2 and IT.CEL.SETS.P2, which are fixed and cell phone line counts / 100 population."
   ]
  },
  {
   "cell_type": "code",
   "execution_count": 39,
   "metadata": {},
   "outputs": [],
   "source": [
    "fixedphonefilter =  df['IndicatorCode'].str.match('IT.MLT.MAIN.P2')\n",
    "cellphonefilter = df['IndicatorCode'].str.match('IT.CEL.SETS.P2')"
   ]
  },
  {
   "cell_type": "markdown",
   "metadata": {},
   "source": [
    "## Find year(s) of interst - let's look at the latest data"
   ]
  },
  {
   "cell_type": "code",
   "execution_count": 40,
   "metadata": {},
   "outputs": [
    {
     "data": {
      "text/plain": [
       "2014"
      ]
     },
     "execution_count": 40,
     "metadata": {},
     "output_type": "execute_result"
    }
   ],
   "source": [
    "df[gdpfilter | fixedphonefilter | cellphonefilter]['Year'].max()"
   ]
  },
  {
   "cell_type": "code",
   "execution_count": 41,
   "metadata": {},
   "outputs": [],
   "source": [
    "yearfilter = df['Year'] == 2014"
   ]
  },
  {
   "cell_type": "markdown",
   "metadata": {},
   "source": [
    "## Create the datasets of interest"
   ]
  },
  {
   "cell_type": "code",
   "execution_count": 42,
   "metadata": {},
   "outputs": [],
   "source": [
    "gdpdf = df[gdpfilter & yearfilter][['CountryName','CountryCode','Year','Value']]\n",
    "gdpdf.columns = ['CountryName','CountryCode','Year','GDPPerCap']"
   ]
  },
  {
   "cell_type": "code",
   "execution_count": 43,
   "metadata": {},
   "outputs": [
    {
     "data": {
      "text/html": [
       "<div>\n",
       "<style scoped>\n",
       "    .dataframe tbody tr th:only-of-type {\n",
       "        vertical-align: middle;\n",
       "    }\n",
       "\n",
       "    .dataframe tbody tr th {\n",
       "        vertical-align: top;\n",
       "    }\n",
       "\n",
       "    .dataframe thead th {\n",
       "        text-align: right;\n",
       "    }\n",
       "</style>\n",
       "<table border=\"1\" class=\"dataframe\">\n",
       "  <thead>\n",
       "    <tr style=\"text-align: right;\">\n",
       "      <th></th>\n",
       "      <th>CountryName</th>\n",
       "      <th>CountryCode</th>\n",
       "      <th>Year</th>\n",
       "      <th>GDPPerCap</th>\n",
       "    </tr>\n",
       "  </thead>\n",
       "  <tbody>\n",
       "    <tr>\n",
       "      <th>5534378</th>\n",
       "      <td>Arab World</td>\n",
       "      <td>ARB</td>\n",
       "      <td>2014</td>\n",
       "      <td>4548.529662</td>\n",
       "    </tr>\n",
       "    <tr>\n",
       "      <th>5534629</th>\n",
       "      <td>Caribbean small states</td>\n",
       "      <td>CSS</td>\n",
       "      <td>2014</td>\n",
       "      <td>7458.860004</td>\n",
       "    </tr>\n",
       "    <tr>\n",
       "      <th>5534888</th>\n",
       "      <td>Central Europe and the Baltics</td>\n",
       "      <td>CEB</td>\n",
       "      <td>2014</td>\n",
       "      <td>10646.249820</td>\n",
       "    </tr>\n",
       "    <tr>\n",
       "      <th>5535235</th>\n",
       "      <td>East Asia &amp; Pacific (all income levels)</td>\n",
       "      <td>EAS</td>\n",
       "      <td>2014</td>\n",
       "      <td>6465.238232</td>\n",
       "    </tr>\n",
       "    <tr>\n",
       "      <th>5535536</th>\n",
       "      <td>East Asia &amp; Pacific (developing only)</td>\n",
       "      <td>EAP</td>\n",
       "      <td>2014</td>\n",
       "      <td>3253.864486</td>\n",
       "    </tr>\n",
       "  </tbody>\n",
       "</table>\n",
       "</div>"
      ],
      "text/plain": [
       "                                     CountryName CountryCode  Year  \\\n",
       "5534378                               Arab World         ARB  2014   \n",
       "5534629                   Caribbean small states         CSS  2014   \n",
       "5534888           Central Europe and the Baltics         CEB  2014   \n",
       "5535235  East Asia & Pacific (all income levels)         EAS  2014   \n",
       "5535536    East Asia & Pacific (developing only)         EAP  2014   \n",
       "\n",
       "            GDPPerCap  \n",
       "5534378   4548.529662  \n",
       "5534629   7458.860004  \n",
       "5534888  10646.249820  \n",
       "5535235   6465.238232  \n",
       "5535536   3253.864486  "
      ]
     },
     "execution_count": 43,
     "metadata": {},
     "output_type": "execute_result"
    }
   ],
   "source": [
    "gdpdf.head()"
   ]
  },
  {
   "cell_type": "code",
   "execution_count": 44,
   "metadata": {},
   "outputs": [],
   "source": [
    "fixedphonedf = df[fixedphonefilter & yearfilter][['CountryCode','Value']]\n",
    "fixedphonedf.columns = ['CountryCode','FixedPhonePer100']"
   ]
  },
  {
   "cell_type": "code",
   "execution_count": 45,
   "metadata": {},
   "outputs": [],
   "source": [
    "cellphonedf = df[cellphonefilter & yearfilter][['CountryCode','Value']]\n",
    "cellphonedf.columns = ['CountryCode','CellPhonePer100']"
   ]
  },
  {
   "cell_type": "code",
   "execution_count": 46,
   "metadata": {},
   "outputs": [],
   "source": [
    "analdf = pd.merge(pd.merge(gdpdf,fixedphonedf, on = 'CountryCode'),cellphonedf, on = 'CountryCode') \n"
   ]
  },
  {
   "cell_type": "code",
   "execution_count": 47,
   "metadata": {},
   "outputs": [
    {
     "data": {
      "text/html": [
       "<div>\n",
       "<style scoped>\n",
       "    .dataframe tbody tr th:only-of-type {\n",
       "        vertical-align: middle;\n",
       "    }\n",
       "\n",
       "    .dataframe tbody tr th {\n",
       "        vertical-align: top;\n",
       "    }\n",
       "\n",
       "    .dataframe thead th {\n",
       "        text-align: right;\n",
       "    }\n",
       "</style>\n",
       "<table border=\"1\" class=\"dataframe\">\n",
       "  <thead>\n",
       "    <tr style=\"text-align: right;\">\n",
       "      <th></th>\n",
       "      <th>Year</th>\n",
       "      <th>GDPPerCap</th>\n",
       "      <th>FixedPhonePer100</th>\n",
       "      <th>CellPhonePer100</th>\n",
       "    </tr>\n",
       "  </thead>\n",
       "  <tbody>\n",
       "    <tr>\n",
       "      <th>count</th>\n",
       "      <td>210.0</td>\n",
       "      <td>210.000000</td>\n",
       "      <td>210.000000</td>\n",
       "      <td>210.000000</td>\n",
       "    </tr>\n",
       "    <tr>\n",
       "      <th>mean</th>\n",
       "      <td>2014.0</td>\n",
       "      <td>10666.685586</td>\n",
       "      <td>16.936969</td>\n",
       "      <td>107.537807</td>\n",
       "    </tr>\n",
       "    <tr>\n",
       "      <th>std</th>\n",
       "      <td>0.0</td>\n",
       "      <td>15228.923102</td>\n",
       "      <td>15.677450</td>\n",
       "      <td>40.298690</td>\n",
       "    </tr>\n",
       "    <tr>\n",
       "      <th>min</th>\n",
       "      <td>2014.0</td>\n",
       "      <td>152.652871</td>\n",
       "      <td>0.000000</td>\n",
       "      <td>17.413558</td>\n",
       "    </tr>\n",
       "    <tr>\n",
       "      <th>25%</th>\n",
       "      <td>2014.0</td>\n",
       "      <td>1127.434436</td>\n",
       "      <td>3.095659</td>\n",
       "      <td>76.107678</td>\n",
       "    </tr>\n",
       "    <tr>\n",
       "      <th>50%</th>\n",
       "      <td>2014.0</td>\n",
       "      <td>4061.660551</td>\n",
       "      <td>12.833195</td>\n",
       "      <td>107.313713</td>\n",
       "    </tr>\n",
       "    <tr>\n",
       "      <th>75%</th>\n",
       "      <td>2014.0</td>\n",
       "      <td>11819.496006</td>\n",
       "      <td>25.938494</td>\n",
       "      <td>128.323762</td>\n",
       "    </tr>\n",
       "    <tr>\n",
       "      <th>max</th>\n",
       "      <td>2014.0</td>\n",
       "      <td>82960.098918</td>\n",
       "      <td>61.089660</td>\n",
       "      <td>322.591536</td>\n",
       "    </tr>\n",
       "  </tbody>\n",
       "</table>\n",
       "</div>"
      ],
      "text/plain": [
       "         Year     GDPPerCap  FixedPhonePer100  CellPhonePer100\n",
       "count   210.0    210.000000        210.000000       210.000000\n",
       "mean   2014.0  10666.685586         16.936969       107.537807\n",
       "std       0.0  15228.923102         15.677450        40.298690\n",
       "min    2014.0    152.652871          0.000000        17.413558\n",
       "25%    2014.0   1127.434436          3.095659        76.107678\n",
       "50%    2014.0   4061.660551         12.833195       107.313713\n",
       "75%    2014.0  11819.496006         25.938494       128.323762\n",
       "max    2014.0  82960.098918         61.089660       322.591536"
      ]
     },
     "execution_count": 47,
     "metadata": {},
     "output_type": "execute_result"
    }
   ],
   "source": [
    "analdf.describe()"
   ]
  },
  {
   "cell_type": "code",
   "execution_count": 48,
   "metadata": {},
   "outputs": [
    {
     "data": {
      "text/html": [
       "<div>\n",
       "<style scoped>\n",
       "    .dataframe tbody tr th:only-of-type {\n",
       "        vertical-align: middle;\n",
       "    }\n",
       "\n",
       "    .dataframe tbody tr th {\n",
       "        vertical-align: top;\n",
       "    }\n",
       "\n",
       "    .dataframe thead th {\n",
       "        text-align: right;\n",
       "    }\n",
       "</style>\n",
       "<table border=\"1\" class=\"dataframe\">\n",
       "  <thead>\n",
       "    <tr style=\"text-align: right;\">\n",
       "      <th></th>\n",
       "      <th>CountryName</th>\n",
       "      <th>CountryCode</th>\n",
       "      <th>Year</th>\n",
       "      <th>GDPPerCap</th>\n",
       "      <th>FixedPhonePer100</th>\n",
       "      <th>CellPhonePer100</th>\n",
       "    </tr>\n",
       "  </thead>\n",
       "  <tbody>\n",
       "    <tr>\n",
       "      <th>69</th>\n",
       "      <td>Congo, Dem. Rep.</td>\n",
       "      <td>ZAR</td>\n",
       "      <td>2014</td>\n",
       "      <td>283.466513</td>\n",
       "      <td>0.0</td>\n",
       "      <td>53.493216</td>\n",
       "    </tr>\n",
       "    <tr>\n",
       "      <th>96</th>\n",
       "      <td>Guinea</td>\n",
       "      <td>GIN</td>\n",
       "      <td>2014</td>\n",
       "      <td>295.291764</td>\n",
       "      <td>0.0</td>\n",
       "      <td>72.098751</td>\n",
       "    </tr>\n",
       "  </tbody>\n",
       "</table>\n",
       "</div>"
      ],
      "text/plain": [
       "         CountryName CountryCode  Year   GDPPerCap  FixedPhonePer100  \\\n",
       "69  Congo, Dem. Rep.         ZAR  2014  283.466513               0.0   \n",
       "96            Guinea         GIN  2014  295.291764               0.0   \n",
       "\n",
       "    CellPhonePer100  \n",
       "69        53.493216  \n",
       "96        72.098751  "
      ]
     },
     "execution_count": 48,
     "metadata": {},
     "output_type": "execute_result"
    }
   ],
   "source": [
    "analdf[analdf['FixedPhonePer100'] == 0]"
   ]
  },
  {
   "cell_type": "code",
   "execution_count": 49,
   "metadata": {},
   "outputs": [],
   "source": [
    "maxgdp = 2500"
   ]
  },
  {
   "cell_type": "code",
   "execution_count": 50,
   "metadata": {},
   "outputs": [
    {
     "data": {
      "text/plain": [
       "<function matplotlib.pyplot.show(*args, **kw)>"
      ]
     },
     "execution_count": 50,
     "metadata": {},
     "output_type": "execute_result"
    },
    {
     "data": {
      "image/png": "[encoded data removed]",
      "text/plain": [
       "<Figure size 720x432 with 1 Axes>"
      ]
     },
     "metadata": {},
     "output_type": "display_data"
    }
   ],
   "source": [
    "import matplotlib.pyplot as plt\n",
    "\n",
    "fig, axis = plt.subplots(figsize=(10,6))\n",
    "# Grid lines, Xticks, Xlabel, Ylabel\n",
    "\n",
    "\n",
    "axis.yaxis.grid(True)\n",
    "axis.set_title('Phone Penetration by Type',fontsize=24)\n",
    "axis.set_ylabel('Phone Lines / 100 Population',fontsize=20)\n",
    "axis.set_xlabel('Per Capita GDP (2005 $)',fontsize=20)\n",
    "plt.ylim(0,350)\n",
    "\n",
    "C = analdf[analdf['GDPPerCap'] <= maxgdp]['CellPhonePer100']\n",
    "F = analdf[analdf['GDPPerCap'] <= maxgdp]['FixedPhonePer100']\n",
    "X = analdf[analdf['GDPPerCap'] <= maxgdp]['GDPPerCap']\n",
    "\n",
    "axis.scatter(X, F, label = 'Fixed')\n",
    "axis.scatter(X, C, label = 'Cell')\n",
    "plt.legend(loc='upper right',fontsize=15)\n",
    "plt.savefig('PhoneLineCounts.png')\n",
    "plt.show"
   ]
  },
  {
   "cell_type": "markdown",
   "metadata": {},
   "source": [
    "## Calculate some correlations"
   ]
  },
  {
   "cell_type": "code",
   "execution_count": 51,
   "metadata": {},
   "outputs": [
    {
     "data": {
      "text/html": [
       "<div>\n",
       "<style scoped>\n",
       "    .dataframe tbody tr th:only-of-type {\n",
       "        vertical-align: middle;\n",
       "    }\n",
       "\n",
       "    .dataframe tbody tr th {\n",
       "        vertical-align: top;\n",
       "    }\n",
       "\n",
       "    .dataframe thead th {\n",
       "        text-align: right;\n",
       "    }\n",
       "</style>\n",
       "<table border=\"1\" class=\"dataframe\">\n",
       "  <thead>\n",
       "    <tr style=\"text-align: right;\">\n",
       "      <th></th>\n",
       "      <th>Year</th>\n",
       "      <th>GDPPerCap</th>\n",
       "      <th>FixedPhonePer100</th>\n",
       "      <th>CellPhonePer100</th>\n",
       "    </tr>\n",
       "  </thead>\n",
       "  <tbody>\n",
       "    <tr>\n",
       "      <th>Year</th>\n",
       "      <td>NaN</td>\n",
       "      <td>NaN</td>\n",
       "      <td>NaN</td>\n",
       "      <td>NaN</td>\n",
       "    </tr>\n",
       "    <tr>\n",
       "      <th>GDPPerCap</th>\n",
       "      <td>NaN</td>\n",
       "      <td>1.000000</td>\n",
       "      <td>0.723581</td>\n",
       "      <td>0.398166</td>\n",
       "    </tr>\n",
       "    <tr>\n",
       "      <th>FixedPhonePer100</th>\n",
       "      <td>NaN</td>\n",
       "      <td>0.723581</td>\n",
       "      <td>1.000000</td>\n",
       "      <td>0.416547</td>\n",
       "    </tr>\n",
       "    <tr>\n",
       "      <th>CellPhonePer100</th>\n",
       "      <td>NaN</td>\n",
       "      <td>0.398166</td>\n",
       "      <td>0.416547</td>\n",
       "      <td>1.000000</td>\n",
       "    </tr>\n",
       "  </tbody>\n",
       "</table>\n",
       "</div>"
      ],
      "text/plain": [
       "                  Year  GDPPerCap  FixedPhonePer100  CellPhonePer100\n",
       "Year               NaN        NaN               NaN              NaN\n",
       "GDPPerCap          NaN   1.000000          0.723581         0.398166\n",
       "FixedPhonePer100   NaN   0.723581          1.000000         0.416547\n",
       "CellPhonePer100    NaN   0.398166          0.416547         1.000000"
      ]
     },
     "execution_count": 51,
     "metadata": {},
     "output_type": "execute_result"
    }
   ],
   "source": [
    "analdf.corr()"
   ]
  },
  {
   "cell_type": "code",
   "execution_count": 52,
   "metadata": {},
   "outputs": [
    {
     "data": {
      "text/html": [
       "<div>\n",
       "<style scoped>\n",
       "    .dataframe tbody tr th:only-of-type {\n",
       "        vertical-align: middle;\n",
       "    }\n",
       "\n",
       "    .dataframe tbody tr th {\n",
       "        vertical-align: top;\n",
       "    }\n",
       "\n",
       "    .dataframe thead th {\n",
       "        text-align: right;\n",
       "    }\n",
       "</style>\n",
       "<table border=\"1\" class=\"dataframe\">\n",
       "  <thead>\n",
       "    <tr style=\"text-align: right;\">\n",
       "      <th></th>\n",
       "      <th>Year</th>\n",
       "      <th>GDPPerCap</th>\n",
       "      <th>FixedPhonePer100</th>\n",
       "      <th>CellPhonePer100</th>\n",
       "    </tr>\n",
       "  </thead>\n",
       "  <tbody>\n",
       "    <tr>\n",
       "      <th>Year</th>\n",
       "      <td>NaN</td>\n",
       "      <td>NaN</td>\n",
       "      <td>NaN</td>\n",
       "      <td>NaN</td>\n",
       "    </tr>\n",
       "    <tr>\n",
       "      <th>GDPPerCap</th>\n",
       "      <td>NaN</td>\n",
       "      <td>1.000000</td>\n",
       "      <td>0.550842</td>\n",
       "      <td>0.477964</td>\n",
       "    </tr>\n",
       "    <tr>\n",
       "      <th>FixedPhonePer100</th>\n",
       "      <td>NaN</td>\n",
       "      <td>0.550842</td>\n",
       "      <td>1.000000</td>\n",
       "      <td>0.450610</td>\n",
       "    </tr>\n",
       "    <tr>\n",
       "      <th>CellPhonePer100</th>\n",
       "      <td>NaN</td>\n",
       "      <td>0.477964</td>\n",
       "      <td>0.450610</td>\n",
       "      <td>1.000000</td>\n",
       "    </tr>\n",
       "  </tbody>\n",
       "</table>\n",
       "</div>"
      ],
      "text/plain": [
       "                  Year  GDPPerCap  FixedPhonePer100  CellPhonePer100\n",
       "Year               NaN        NaN               NaN              NaN\n",
       "GDPPerCap          NaN   1.000000          0.550842         0.477964\n",
       "FixedPhonePer100   NaN   0.550842          1.000000         0.450610\n",
       "CellPhonePer100    NaN   0.477964          0.450610         1.000000"
      ]
     },
     "execution_count": 52,
     "metadata": {},
     "output_type": "execute_result"
    }
   ],
   "source": [
    "analdf[analdf['GDPPerCap'] < 2500].corr()"
   ]
  },
  {
   "cell_type": "code",
   "execution_count": null,
   "metadata": {},
   "outputs": [],
   "source": []
  }
 ],
 "metadata": {
  "kernelspec": {
   "display_name": "conda_python3",
   "language": "python",
   "name": "conda_python3"
  },
  "language_info": {
   "codemirror_mode": {
    "name": "ipython",
    "version": 3
   },
   "file_extension": ".py",
   "mimetype": "text/x-python",
   "name": "python",
   "nbconvert_exporter": "python",
   "pygments_lexer": "ipython3",
   "version": "3.6.5"
  }
 },
 "nbformat": 4,
 "nbformat_minor": 2
}
