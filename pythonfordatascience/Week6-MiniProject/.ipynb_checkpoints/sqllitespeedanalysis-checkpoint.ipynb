{
 "cells": [
  {
   "cell_type": "code",
   "execution_count": null,
   "metadata": {},
   "outputs": [],
   "source": []
  },
  {
   "cell_type": "code",
   "execution_count": 2,
   "metadata": {
    "collapsed": true
   },
   "outputs": [],
   "source": [
    "import pandas as pd\n",
    "import numpy as np\n",
    "import random\n",
    "import sqlite3\n",
    "import matplotlib.pyplot as plt"
   ]
  },
  {
   "cell_type": "code",
   "execution_count": 48,
   "metadata": {},
   "outputs": [],
   "source": [
    "def create_connection(db_file):\n",
    "    \"\"\" create a database connection to the SQLite database\n",
    "        specified by db_file\n",
    "    :param db_file: database file\n",
    "    :return: Connection object or None\n",
    "    \"\"\"\n",
    "    try:\n",
    "        conn = sqlite3.connect(db_file)\n",
    "        return conn\n",
    "    except Error as e:\n",
    "        print(e)\n",
    " \n",
    "    return None\n",
    "\n",
    "def create_table(conn, create_table_sql):\n",
    "    \"\"\" create a table from the create_table_sql statement\n",
    "    :param conn: Connection object\n",
    "    :param create_table_sql: a CREATE TABLE statement\n",
    "    :return:\n",
    "    \"\"\"\n",
    "    try:\n",
    "        c = conn.cursor()\n",
    "        c.execute(create_table_sql)\n",
    "    except Error as e:\n",
    "        print(e)\n",
    "        \n",
    "def df2sqlite(conn, dataframe, table_name):\n",
    "  cur = conn.cursor()                                 \n",
    " \n",
    "  wildcards = ','.join(['?'] * len(dataframe.columns))              \n",
    "  data = [tuple(x) for x in dataframe.values]\n",
    " \n",
    "  # cur.execute(\"drop table if exists %s\" % table_name)\n",
    " \n",
    "  #col_str = '\"' + '\",\"'.join(dataframe.columns) + '\"'\n",
    "  #cur.execute(\"create table %s (%s)\" % (table_name, col_str))\n",
    " \n",
    "  cur.executemany(\"insert into %s values(%s)\" % (table_name, wildcards), data)\n",
    " \n",
    "  conn.commit()\n"
   ]
  },
  {
   "cell_type": "markdown",
   "metadata": {},
   "source": [
    "## Time using the comprehensive WDI db"
   ]
  },
  {
   "cell_type": "code",
   "execution_count": 49,
   "metadata": {
    "nbgrader": {
     "grade": false,
     "grade_id": "c2c",
     "locked": true,
     "schema_version": 1,
     "solution": false
    }
   },
   "outputs": [
    {
     "name": "stdout",
     "output_type": "stream",
     "text": [
      "17.5 s ± 143 ms per loop (mean ± std. dev. of 20 runs, 1 loop each)\n"
     ]
    },
    {
     "data": {
      "text/plain": [
       "<TimeitResult : 17.5 s ± 143 ms per loop (mean ± std. dev. of 20 runs, 1 loop each)>"
      ]
     },
     "execution_count": 49,
     "metadata": {},
     "output_type": "execute_result"
    }
   ],
   "source": [
    "%%timeit -n1 -r5 -o\n",
    "# Query the WDI database and pull the indicators into df\n",
    "\n",
    "def get_data():\n",
    "    sql = \"SELECT * FROM Indicators\"\n",
    "    cnx = sqlite3.connect('../Week5-Visualization/world-development-indicators/database.sqlite')\n",
    "    df = pd.read_sql_query(sql, cnx)\n",
    "    cnx.close\n",
    "    return df\n",
    "\n",
    "df = get_data()"
   ]
  },
  {
   "cell_type": "code",
   "execution_count": 50,
   "metadata": {},
   "outputs": [
    {
     "data": {
      "text/plain": [
       "[17.28218365900102,\n",
       " 17.457648063000306,\n",
       " 17.42557915800171,\n",
       " 17.449948380000933,\n",
       " 17.47345609199874,\n",
       " 17.43430605499998,\n",
       " 17.451542597000298,\n",
       " 17.456139941999936,\n",
       " 17.432721399000002,\n",
       " 17.4106568469997,\n",
       " 17.4716644300006,\n",
       " 17.460014338999827,\n",
       " 17.429999758000122,\n",
       " 17.475487690999216,\n",
       " 18.06219850600064,\n",
       " 17.421453234001092,\n",
       " 17.42707671399876,\n",
       " 17.424097744999017,\n",
       " 17.456712355999116,\n",
       " 17.401354442999946]"
      ]
     },
     "execution_count": 50,
     "metadata": {},
     "output_type": "execute_result"
    }
   ],
   "source": [
    "result_comp = _\n",
    "result_comp.all_runs"
   ]
  },
  {
   "cell_type": "markdown",
   "metadata": {},
   "source": [
    "## Time filter and distinct using the comprehensive WDI db"
   ]
  },
  {
   "cell_type": "code",
   "execution_count": 7,
   "metadata": {},
   "outputs": [
    {
     "name": "stdout",
     "output_type": "stream",
     "text": [
      "20.5 s ± 90.9 ms per loop (mean ± std. dev. of 5 runs, 1 loop each)\n"
     ]
    },
    {
     "data": {
      "text/plain": [
       "<TimeitResult : 20.5 s ± 90.9 ms per loop (mean ± std. dev. of 5 runs, 1 loop each)>"
      ]
     },
     "execution_count": 7,
     "metadata": {},
     "output_type": "execute_result"
    }
   ],
   "source": [
    "%%timeit -n1 -r5 -o\n",
    "# Query the WDI database and pull the indicators into df\n",
    "\n",
    "def get_data():\n",
    "    sql = \"SELECT DISTINCT IndicatorCode FROM Indicators WHERE IndicatorName LIKE '%GDP%'\"\n",
    "    cnx = sqlite3.connect('../Week5-Visualization/world-development-indicators/database.sqlite')\n",
    "    df = pd.read_sql_query(sql, cnx)\n",
    "    cnx.close\n",
    "    return df\n",
    "\n",
    "df = get_data()"
   ]
  },
  {
   "cell_type": "code",
   "execution_count": 8,
   "metadata": {},
   "outputs": [
    {
     "data": {
      "text/plain": [
       "[20.621866788000034,\n",
       " 20.624353114999963,\n",
       " 20.56778819400006,\n",
       " 20.47778284100002,\n",
       " 20.388516750999997]"
      ]
     },
     "execution_count": 8,
     "metadata": {},
     "output_type": "execute_result"
    }
   ],
   "source": [
    "result_comp_filter_distinct = _\n",
    "result_comp_filter_distinct.all_runs"
   ]
  },
  {
   "cell_type": "markdown",
   "metadata": {},
   "source": [
    "### This is the class for the timeit result object.\n",
    "\n",
    "class IPython.core.magics.execution.TimeitResult(loops, repeat, best, all_runs, compile_time, precision)\n",
    "Bases: object\n",
    "\n",
    "Object returned by the timeit magic with info about the run.\n",
    "\n",
    "Contain the following attributes :\n",
    "loops: (int) number of loop done per measurement repeat: (int) number of time the mesurement has been repeated best: (float) best execusion time / number all_runs: (list of float) execusion time of each run (in s) compile_time: (float) time of statement compilation (s)"
   ]
  },
  {
   "cell_type": "markdown",
   "metadata": {},
   "source": [
    "## Time using the indicator only WDI db"
   ]
  },
  {
   "cell_type": "code",
   "execution_count": 9,
   "metadata": {},
   "outputs": [
    {
     "name": "stdout",
     "output_type": "stream",
     "text": [
      "16.3 s ± 28 ms per loop (mean ± std. dev. of 5 runs, 1 loop each)\n"
     ]
    },
    {
     "data": {
      "text/plain": [
       "<TimeitResult : 16.3 s ± 28 ms per loop (mean ± std. dev. of 5 runs, 1 loop each)>"
      ]
     },
     "execution_count": 9,
     "metadata": {},
     "output_type": "execute_result"
    }
   ],
   "source": [
    "%%timeit -n1 -r5 -o\n",
    "# Query the WDI database and pull the indicators into df\n",
    "\n",
    "def get_data():\n",
    "    sql = \"SELECT * FROM Indicators\"\n",
    "    cnx = sqlite3.connect('../Week5-Visualization/world-development-indicators/indicatorsdb.sqlite')\n",
    "    df = pd.read_sql_query(sql, cnx)\n",
    "    cnx.close\n",
    "    return df\n",
    "\n",
    "df = get_data()"
   ]
  },
  {
   "cell_type": "code",
   "execution_count": 10,
   "metadata": {},
   "outputs": [
    {
     "data": {
      "text/plain": [
       "[16.226794311999925,\n",
       " 16.241599312999938,\n",
       " 16.25180094399991,\n",
       " 16.308450300999993,\n",
       " 16.26799852199997]"
      ]
     },
     "execution_count": 10,
     "metadata": {},
     "output_type": "execute_result"
    }
   ],
   "source": [
    "result_indonly = _\n",
    "result_indonly.all_runs"
   ]
  },
  {
   "cell_type": "markdown",
   "metadata": {},
   "source": [
    "## Time filter and distinct using the indicator only WDI db"
   ]
  },
  {
   "cell_type": "code",
   "execution_count": 11,
   "metadata": {
    "nbgrader": {
     "grade": false,
     "grade_id": "c2c",
     "locked": true,
     "schema_version": 1,
     "solution": false
    }
   },
   "outputs": [
    {
     "name": "stdout",
     "output_type": "stream",
     "text": [
      "1.15 s ± 3.56 ms per loop (mean ± std. dev. of 5 runs, 1 loop each)\n"
     ]
    },
    {
     "data": {
      "text/plain": [
       "<TimeitResult : 1.15 s ± 3.56 ms per loop (mean ± std. dev. of 5 runs, 1 loop each)>"
      ]
     },
     "execution_count": 11,
     "metadata": {},
     "output_type": "execute_result"
    }
   ],
   "source": [
    "%%timeit -n1 -r5 -o\n",
    "# Query the WDI database and pull the indicators into df\n",
    "\n",
    "def get_data():\n",
    "    sql = \"SELECT DISTINCT IndicatorCode FROM Indicators WHERE IndicatorName LIKE '%GDP%'\"\n",
    "    cnx = sqlite3.connect('../Week5-Visualization/world-development-indicators/indicatorsdb.sqlite')\n",
    "    df = pd.read_sql_query(sql, cnx)\n",
    "    cnx.close\n",
    "    return df\n",
    "\n",
    "df = get_data()"
   ]
  },
  {
   "cell_type": "code",
   "execution_count": 12,
   "metadata": {},
   "outputs": [
    {
     "data": {
      "text/plain": [
       "[1.151843222000025,\n",
       " 1.1425034059999462,\n",
       " 1.1453950320000104,\n",
       " 1.1449588770000219,\n",
       " 1.141764309999985]"
      ]
     },
     "execution_count": 12,
     "metadata": {},
     "output_type": "execute_result"
    }
   ],
   "source": [
    "result_indonly_filter_distinct = _\n",
    "result_indonly_filter_distinct.all_runs"
   ]
  },
  {
   "cell_type": "markdown",
   "metadata": {},
   "source": [
    "## Time using read_csv db"
   ]
  },
  {
   "cell_type": "code",
   "execution_count": 61,
   "metadata": {},
   "outputs": [
    {
     "name": "stdout",
     "output_type": "stream",
     "text": [
      "7.47 s ± 12.7 ms per loop (mean ± std. dev. of 20 runs, 1 loop each)\n"
     ]
    },
    {
     "data": {
      "text/plain": [
       "<TimeitResult : 7.47 s ± 12.7 ms per loop (mean ± std. dev. of 20 runs, 1 loop each)>"
      ]
     },
     "execution_count": 61,
     "metadata": {},
     "output_type": "execute_result"
    }
   ],
   "source": [
    "%%timeit -n1 -r5 -o\n",
    "df = pd.read_csv('../Week5-Visualization/world-development-indicators/Indicators.csv')"
   ]
  },
  {
   "cell_type": "code",
   "execution_count": 62,
   "metadata": {},
   "outputs": [
    {
     "data": {
      "text/plain": [
       "[7.472689035999792,\n",
       " 7.471535504999338,\n",
       " 7.470449280999674,\n",
       " 7.467715920000046,\n",
       " 7.479507657000795,\n",
       " 7.482855398999163,\n",
       " 7.461156090999793,\n",
       " 7.477054209999551,\n",
       " 7.511830661998829,\n",
       " 7.482280053000068,\n",
       " 7.467783324000266,\n",
       " 7.46944098899985,\n",
       " 7.493231702999765,\n",
       " 7.454157543999827,\n",
       " 7.476697494999826,\n",
       " 7.457688282000163,\n",
       " 7.4684403850005765,\n",
       " 7.462105353000879,\n",
       " 7.4793088089991215,\n",
       " 7.464224197001386]"
      ]
     },
     "execution_count": 62,
     "metadata": {},
     "output_type": "execute_result"
    }
   ],
   "source": [
    "result_readcsv = _\n",
    "result_readcsv.all_runs"
   ]
  },
  {
   "cell_type": "markdown",
   "metadata": {},
   "source": [
    "## Time filter and distinct using read_csv db"
   ]
  },
  {
   "cell_type": "code",
   "execution_count": 63,
   "metadata": {},
   "outputs": [
    {
     "name": "stdout",
     "output_type": "stream",
     "text": [
      "10.4 s ± 29.2 ms per loop (mean ± std. dev. of 20 runs, 1 loop each)\n"
     ]
    },
    {
     "data": {
      "text/plain": [
       "<TimeitResult : 10.4 s ± 29.2 ms per loop (mean ± std. dev. of 20 runs, 1 loop each)>"
      ]
     },
     "execution_count": 63,
     "metadata": {},
     "output_type": "execute_result"
    }
   ],
   "source": [
    "%%timeit -n1 -r5 -o\n",
    "df = pd.read_csv('../Week5-Visualization/world-development-indicators/Indicators.csv')\n",
    "df_ind_filter = df['IndicatorName'].str.contains('GDP')\n",
    "df = df['IndicatorCode']\n",
    "df = df[df_ind_filter].drop_duplicates()"
   ]
  },
  {
   "cell_type": "code",
   "execution_count": 64,
   "metadata": {},
   "outputs": [
    {
     "data": {
      "text/plain": [
       "[10.343889518999276,\n",
       " 10.325728805000836,\n",
       " 10.355322798000998,\n",
       " 10.40343645699977,\n",
       " 10.369640307000736,\n",
       " 10.379465031001018,\n",
       " 10.365289917001064,\n",
       " 10.37894491499901,\n",
       " 10.38270198400096,\n",
       " 10.368431527000212,\n",
       " 10.352785940998729,\n",
       " 10.37152652399891,\n",
       " 10.39725545300098,\n",
       " 10.368431147000592,\n",
       " 10.33031514600043,\n",
       " 10.324823429999014,\n",
       " 10.322275889000593,\n",
       " 10.311693031999312,\n",
       " 10.29849177199867,\n",
       " 10.316700158000458]"
      ]
     },
     "execution_count": 64,
     "metadata": {},
     "output_type": "execute_result"
    }
   ],
   "source": [
    "result_readcsv_filter_distinct = _\n",
    "result_readcsv_filter_distinct.all_runs"
   ]
  },
  {
   "cell_type": "code",
   "execution_count": null,
   "metadata": {},
   "outputs": [],
   "source": []
  }
 ],
 "metadata": {
  "kernelspec": {
   "display_name": "conda_python3",
   "language": "python",
   "name": "conda_python3"
  },
  "language_info": {
   "codemirror_mode": {
    "name": "ipython",
    "version": 3
   },
   "file_extension": ".py",
   "mimetype": "text/x-python",
   "name": "python",
   "nbconvert_exporter": "python",
   "pygments_lexer": "ipython3",
   "version": "3.6.5"
  }
 },
 "nbformat": 4,
 "nbformat_minor": 2
}
