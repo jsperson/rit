{
 "cells": [
  {
   "cell_type": "markdown",
   "metadata": {},
   "source": [
    "# Analysis of Home Mortgage Disclosure Act (HMDA) Data"
   ]
  },
  {
   "cell_type": "markdown",
   "metadata": {},
   "source": [
    "Data Source: https://www.consumerfinance.gov/data-research/hmda/historic-data/"
   ]
  },
  {
   "cell_type": "markdown",
   "metadata": {},
   "source": [
    "## Get the data out of S3 using an Athena query"
   ]
  },
  {
   "cell_type": "markdown",
   "metadata": {},
   "source": [
    "### Data is extracted then stored in a CSV. This allowed quick retrieval as I iterated through the analysis."
   ]
  },
  {
   "cell_type": "code",
   "execution_count": 3,
   "metadata": {
    "collapsed": true,
    "jupyter": {
     "outputs_hidden": true
    }
   },
   "outputs": [
    {
     "name": "stdout",
     "output_type": "stream",
     "text": [
      "Collecting PyAthena\n",
      "  Downloading https://files.pythonhosted.org/packages/34/11/20fbc9d9c0825e3c1c7ef9ea7e6489b20f582a24ca05ab023003948034cf/PyAthena-1.7.1-py2.py3-none-any.whl\n",
      "Collecting future (from PyAthena)\n",
      "\u001b[?25l  Downloading https://files.pythonhosted.org/packages/90/52/e20466b85000a181e1e144fd8305caf2cf475e2f9674e797b222f8105f5f/future-0.17.1.tar.gz (829kB)\n",
      "\u001b[K    100% |████████████████████████████████| 829kB 23.0MB/s ta 0:00:01\n",
      "\u001b[?25hRequirement already satisfied: boto3>=1.4.4 in /home/ec2-user/anaconda3/envs/python3/lib/python3.6/site-packages (from PyAthena) (1.9.188)\n",
      "Requirement already satisfied: botocore>=1.5.52 in /home/ec2-user/anaconda3/envs/python3/lib/python3.6/site-packages (from PyAthena) (1.12.188)\n",
      "Collecting tenacity>=4.1.0 (from PyAthena)\n",
      "  Downloading https://files.pythonhosted.org/packages/6a/93/dfcf5b1b46ab29196274b78dcba69fab5e54b6dc303a7eed90a79194d277/tenacity-5.0.4-py2.py3-none-any.whl\n",
      "Requirement already satisfied: jmespath<1.0.0,>=0.7.1 in /home/ec2-user/anaconda3/envs/python3/lib/python3.6/site-packages (from boto3>=1.4.4->PyAthena) (0.9.4)\n",
      "Requirement already satisfied: s3transfer<0.3.0,>=0.2.0 in /home/ec2-user/anaconda3/envs/python3/lib/python3.6/site-packages (from boto3>=1.4.4->PyAthena) (0.2.0)\n",
      "Requirement already satisfied: urllib3<1.26,>=1.20; python_version >= \"3.4\" in /home/ec2-user/anaconda3/envs/python3/lib/python3.6/site-packages (from botocore>=1.5.52->PyAthena) (1.23)\n",
      "Requirement already satisfied: docutils>=0.10 in /home/ec2-user/anaconda3/envs/python3/lib/python3.6/site-packages (from botocore>=1.5.52->PyAthena) (0.14)\n",
      "Requirement already satisfied: python-dateutil<3.0.0,>=2.1; python_version >= \"2.7\" in /home/ec2-user/anaconda3/envs/python3/lib/python3.6/site-packages (from botocore>=1.5.52->PyAthena) (2.7.3)\n",
      "Requirement already satisfied: six>=1.9.0 in /home/ec2-user/anaconda3/envs/python3/lib/python3.6/site-packages (from tenacity>=4.1.0->PyAthena) (1.11.0)\n",
      "Building wheels for collected packages: future\n",
      "  Running setup.py bdist_wheel for future ... \u001b[?25ldone\n",
      "\u001b[?25h  Stored in directory: /home/ec2-user/.cache/pip/wheels/0c/61/d2/d6b7317325828fbb39ee6ad559dbe4664d0896da4721bf379e\n",
      "Successfully built future\n",
      "Installing collected packages: future, tenacity, PyAthena\n",
      "Successfully installed PyAthena-1.7.1 future-0.17.1 tenacity-5.0.4\n",
      "\u001b[33mYou are using pip version 10.0.1, however version 19.2.1 is available.\n",
      "You should consider upgrading via the 'pip install --upgrade pip' command.\u001b[0m\n"
     ]
    }
   ],
   "source": [
    "# Setup python to connect to S3\n",
    "import sys\n",
    "!{sys.executable} -m pip install PyAthena\n",
    "from pyathena import connect\n",
    "\n",
    "# Get data from S3\n",
    "athena_storage_location = 's3://aws-athena-query-results-527117955781-us-east-1/'\n",
    "aws_region = 'us-east-1'\n",
    "sql = \"SELECT as_of_year, loan_amount_000s, applicant_income_000s, rate_spread FROM hmda.hmda_csv;\"\n",
    "conn = connect(s3_staging_dir=athena_storage_location,\n",
    "               region_name=aws_region)\n",
    "df = pd.read_sql(sql,conn)\n",
    "df.to_csv ('./data/hmda_analysis_data.csv', index = None, header=True)"
   ]
  },
  {
   "cell_type": "markdown",
   "metadata": {},
   "source": [
    "## Setup the analysis environment ead the data from the CSV"
   ]
  },
  {
   "cell_type": "code",
   "execution_count": 37,
   "metadata": {},
   "outputs": [],
   "source": [
    "import numpy as np\n",
    "import pandas as pd\n",
    "import matplotlib.pyplot as plt"
   ]
  },
  {
   "cell_type": "code",
   "execution_count": 24,
   "metadata": {},
   "outputs": [],
   "source": [
    "df = pd.read_csv('./data/hmda_analysis_data.csv', dtype = {\"as_of_year\":int, \"loan_amount_000s\":float, \"applicant_income_000s\":float, \"rate_spread\":float})"
   ]
  },
  {
   "cell_type": "code",
   "execution_count": 25,
   "metadata": {},
   "outputs": [
    {
     "data": {
      "text/html": [
       "<div>\n",
       "<style scoped>\n",
       "    .dataframe tbody tr th:only-of-type {\n",
       "        vertical-align: middle;\n",
       "    }\n",
       "\n",
       "    .dataframe tbody tr th {\n",
       "        vertical-align: top;\n",
       "    }\n",
       "\n",
       "    .dataframe thead th {\n",
       "        text-align: right;\n",
       "    }\n",
       "</style>\n",
       "<table border=\"1\" class=\"dataframe\">\n",
       "  <thead>\n",
       "    <tr style=\"text-align: right;\">\n",
       "      <th></th>\n",
       "      <th>as_of_year</th>\n",
       "      <th>loan_amount_000s</th>\n",
       "      <th>applicant_income_000s</th>\n",
       "      <th>rate_spread</th>\n",
       "    </tr>\n",
       "  </thead>\n",
       "  <tbody>\n",
       "    <tr>\n",
       "      <th>0</th>\n",
       "      <td>2014</td>\n",
       "      <td>126.0</td>\n",
       "      <td>51.0</td>\n",
       "      <td>NaN</td>\n",
       "    </tr>\n",
       "    <tr>\n",
       "      <th>1</th>\n",
       "      <td>2014</td>\n",
       "      <td>212.0</td>\n",
       "      <td>135.0</td>\n",
       "      <td>NaN</td>\n",
       "    </tr>\n",
       "    <tr>\n",
       "      <th>2</th>\n",
       "      <td>2014</td>\n",
       "      <td>135.0</td>\n",
       "      <td>94.0</td>\n",
       "      <td>1.56</td>\n",
       "    </tr>\n",
       "    <tr>\n",
       "      <th>3</th>\n",
       "      <td>2014</td>\n",
       "      <td>361.0</td>\n",
       "      <td>139.0</td>\n",
       "      <td>NaN</td>\n",
       "    </tr>\n",
       "    <tr>\n",
       "      <th>4</th>\n",
       "      <td>2014</td>\n",
       "      <td>162.0</td>\n",
       "      <td>81.0</td>\n",
       "      <td>NaN</td>\n",
       "    </tr>\n",
       "  </tbody>\n",
       "</table>\n",
       "</div>"
      ],
      "text/plain": [
       "   as_of_year  loan_amount_000s  applicant_income_000s  rate_spread\n",
       "0        2014             126.0                   51.0          NaN\n",
       "1        2014             212.0                  135.0          NaN\n",
       "2        2014             135.0                   94.0         1.56\n",
       "3        2014             361.0                  139.0          NaN\n",
       "4        2014             162.0                   81.0          NaN"
      ]
     },
     "execution_count": 25,
     "metadata": {},
     "output_type": "execute_result"
    }
   ],
   "source": [
    "df.head()"
   ]
  },
  {
   "cell_type": "code",
   "execution_count": 26,
   "metadata": {},
   "outputs": [],
   "source": [
    "df['loan_to_income_ratio'] = df['loan_amount_000s']/df['applicant_income_000s']"
   ]
  },
  {
   "cell_type": "code",
   "execution_count": 27,
   "metadata": {},
   "outputs": [
    {
     "data": {
      "text/html": [
       "<div>\n",
       "<style scoped>\n",
       "    .dataframe tbody tr th:only-of-type {\n",
       "        vertical-align: middle;\n",
       "    }\n",
       "\n",
       "    .dataframe tbody tr th {\n",
       "        vertical-align: top;\n",
       "    }\n",
       "\n",
       "    .dataframe thead th {\n",
       "        text-align: right;\n",
       "    }\n",
       "</style>\n",
       "<table border=\"1\" class=\"dataframe\">\n",
       "  <thead>\n",
       "    <tr style=\"text-align: right;\">\n",
       "      <th></th>\n",
       "      <th>as_of_year</th>\n",
       "      <th>loan_amount_000s</th>\n",
       "      <th>applicant_income_000s</th>\n",
       "      <th>rate_spread</th>\n",
       "      <th>loan_to_income_ratio</th>\n",
       "    </tr>\n",
       "  </thead>\n",
       "  <tbody>\n",
       "    <tr>\n",
       "      <th>0</th>\n",
       "      <td>2014</td>\n",
       "      <td>126.0</td>\n",
       "      <td>51.0</td>\n",
       "      <td>NaN</td>\n",
       "      <td>2.470588</td>\n",
       "    </tr>\n",
       "    <tr>\n",
       "      <th>1</th>\n",
       "      <td>2014</td>\n",
       "      <td>212.0</td>\n",
       "      <td>135.0</td>\n",
       "      <td>NaN</td>\n",
       "      <td>1.570370</td>\n",
       "    </tr>\n",
       "    <tr>\n",
       "      <th>2</th>\n",
       "      <td>2014</td>\n",
       "      <td>135.0</td>\n",
       "      <td>94.0</td>\n",
       "      <td>1.56</td>\n",
       "      <td>1.436170</td>\n",
       "    </tr>\n",
       "    <tr>\n",
       "      <th>3</th>\n",
       "      <td>2014</td>\n",
       "      <td>361.0</td>\n",
       "      <td>139.0</td>\n",
       "      <td>NaN</td>\n",
       "      <td>2.597122</td>\n",
       "    </tr>\n",
       "    <tr>\n",
       "      <th>4</th>\n",
       "      <td>2014</td>\n",
       "      <td>162.0</td>\n",
       "      <td>81.0</td>\n",
       "      <td>NaN</td>\n",
       "      <td>2.000000</td>\n",
       "    </tr>\n",
       "  </tbody>\n",
       "</table>\n",
       "</div>"
      ],
      "text/plain": [
       "   as_of_year  loan_amount_000s  applicant_income_000s  rate_spread  \\\n",
       "0        2014             126.0                   51.0          NaN   \n",
       "1        2014             212.0                  135.0          NaN   \n",
       "2        2014             135.0                   94.0         1.56   \n",
       "3        2014             361.0                  139.0          NaN   \n",
       "4        2014             162.0                   81.0          NaN   \n",
       "\n",
       "   loan_to_income_ratio  \n",
       "0              2.470588  \n",
       "1              1.570370  \n",
       "2              1.436170  \n",
       "3              2.597122  \n",
       "4              2.000000  "
      ]
     },
     "execution_count": 27,
     "metadata": {},
     "output_type": "execute_result"
    }
   ],
   "source": [
    "df.head()"
   ]
  },
  {
   "cell_type": "markdown",
   "metadata": {},
   "source": [
    "### Now we have our details in a dataframe. Let's calculate the mean."
   ]
  },
  {
   "cell_type": "code",
   "execution_count": 35,
   "metadata": {},
   "outputs": [
    {
     "data": {
      "text/html": [
       "<div>\n",
       "<style scoped>\n",
       "    .dataframe tbody tr th:only-of-type {\n",
       "        vertical-align: middle;\n",
       "    }\n",
       "\n",
       "    .dataframe tbody tr th {\n",
       "        vertical-align: top;\n",
       "    }\n",
       "\n",
       "    .dataframe thead th {\n",
       "        text-align: right;\n",
       "    }\n",
       "</style>\n",
       "<table border=\"1\" class=\"dataframe\">\n",
       "  <thead>\n",
       "    <tr style=\"text-align: right;\">\n",
       "      <th></th>\n",
       "      <th>loan_amount_000s</th>\n",
       "      <th>applicant_income_000s</th>\n",
       "      <th>rate_spread</th>\n",
       "      <th>loan_to_income_ratio</th>\n",
       "    </tr>\n",
       "    <tr>\n",
       "      <th>as_of_year</th>\n",
       "      <th></th>\n",
       "      <th></th>\n",
       "      <th></th>\n",
       "      <th></th>\n",
       "    </tr>\n",
       "  </thead>\n",
       "  <tbody>\n",
       "    <tr>\n",
       "      <th>2007</th>\n",
       "      <td>229.069417</td>\n",
       "      <td>95.931398</td>\n",
       "      <td>4.675704</td>\n",
       "      <td>2.732374</td>\n",
       "    </tr>\n",
       "    <tr>\n",
       "      <th>2008</th>\n",
       "      <td>211.452700</td>\n",
       "      <td>94.634002</td>\n",
       "      <td>4.214035</td>\n",
       "      <td>2.654111</td>\n",
       "    </tr>\n",
       "    <tr>\n",
       "      <th>2009</th>\n",
       "      <td>210.212739</td>\n",
       "      <td>99.505074</td>\n",
       "      <td>4.038547</td>\n",
       "      <td>2.616449</td>\n",
       "    </tr>\n",
       "    <tr>\n",
       "      <th>2010</th>\n",
       "      <td>215.051597</td>\n",
       "      <td>105.664634</td>\n",
       "      <td>2.499408</td>\n",
       "      <td>2.481347</td>\n",
       "    </tr>\n",
       "    <tr>\n",
       "      <th>2011</th>\n",
       "      <td>213.466322</td>\n",
       "      <td>108.402764</td>\n",
       "      <td>2.479931</td>\n",
       "      <td>2.408148</td>\n",
       "    </tr>\n",
       "    <tr>\n",
       "      <th>2012</th>\n",
       "      <td>219.481115</td>\n",
       "      <td>108.655808</td>\n",
       "      <td>2.478034</td>\n",
       "      <td>2.457055</td>\n",
       "    </tr>\n",
       "    <tr>\n",
       "      <th>2013</th>\n",
       "      <td>219.920301</td>\n",
       "      <td>105.955652</td>\n",
       "      <td>2.145030</td>\n",
       "      <td>2.509665</td>\n",
       "    </tr>\n",
       "    <tr>\n",
       "      <th>2014</th>\n",
       "      <td>231.035081</td>\n",
       "      <td>103.415194</td>\n",
       "      <td>1.992665</td>\n",
       "      <td>2.612156</td>\n",
       "    </tr>\n",
       "    <tr>\n",
       "      <th>2015</th>\n",
       "      <td>246.576477</td>\n",
       "      <td>107.138255</td>\n",
       "      <td>2.038234</td>\n",
       "      <td>2.670622</td>\n",
       "    </tr>\n",
       "    <tr>\n",
       "      <th>2016</th>\n",
       "      <td>257.072973</td>\n",
       "      <td>109.603304</td>\n",
       "      <td>2.013937</td>\n",
       "      <td>2.739110</td>\n",
       "    </tr>\n",
       "    <tr>\n",
       "      <th>2017</th>\n",
       "      <td>257.334154</td>\n",
       "      <td>111.901239</td>\n",
       "      <td>2.021350</td>\n",
       "      <td>2.840022</td>\n",
       "    </tr>\n",
       "  </tbody>\n",
       "</table>\n",
       "</div>"
      ],
      "text/plain": [
       "            loan_amount_000s  applicant_income_000s  rate_spread  \\\n",
       "as_of_year                                                         \n",
       "2007              229.069417              95.931398     4.675704   \n",
       "2008              211.452700              94.634002     4.214035   \n",
       "2009              210.212739              99.505074     4.038547   \n",
       "2010              215.051597             105.664634     2.499408   \n",
       "2011              213.466322             108.402764     2.479931   \n",
       "2012              219.481115             108.655808     2.478034   \n",
       "2013              219.920301             105.955652     2.145030   \n",
       "2014              231.035081             103.415194     1.992665   \n",
       "2015              246.576477             107.138255     2.038234   \n",
       "2016              257.072973             109.603304     2.013937   \n",
       "2017              257.334154             111.901239     2.021350   \n",
       "\n",
       "            loan_to_income_ratio  \n",
       "as_of_year                        \n",
       "2007                    2.732374  \n",
       "2008                    2.654111  \n",
       "2009                    2.616449  \n",
       "2010                    2.481347  \n",
       "2011                    2.408148  \n",
       "2012                    2.457055  \n",
       "2013                    2.509665  \n",
       "2014                    2.612156  \n",
       "2015                    2.670622  \n",
       "2016                    2.739110  \n",
       "2017                    2.840022  "
      ]
     },
     "execution_count": 35,
     "metadata": {},
     "output_type": "execute_result"
    }
   ],
   "source": [
    "df_averages = df.groupby('as_of_year').mean()\n",
    "df_averages"
   ]
  },
  {
   "cell_type": "code",
   "execution_count": 33,
   "metadata": {},
   "outputs": [
    {
     "data": {
      "text/plain": [
       "as_of_year               72617573\n",
       "loan_amount_000s         72616122\n",
       "applicant_income_000s    68138671\n",
       "rate_spread               4343760\n",
       "loan_to_income_ratio     68137221\n",
       "dtype: int64"
      ]
     },
     "execution_count": 33,
     "metadata": {},
     "output_type": "execute_result"
    }
   ],
   "source": [
    "df.count()"
   ]
  },
  {
   "cell_type": "markdown",
   "metadata": {},
   "source": [
    "### Create our charts"
   ]
  },
  {
   "cell_type": "code",
   "execution_count": 74,
   "metadata": {},
   "outputs": [
    {
     "data": {
      "image/png": "[encoded data removed]",
      "text/plain": [
       "<Figure size 720x432 with 2 Axes>"
      ]
     },
     "metadata": {},
     "output_type": "display_data"
    }
   ],
   "source": [
    "fig, ax1 = plt.subplots(figsize=(10,6))\n",
    "\n",
    "ax1.set_title('Financials By Year',fontsize=24)\n",
    "\n",
    "color = 'tab:blue'\n",
    "ax1.set_xlabel('Year', fontsize=20)\n",
    "ax1.set_ylabel('Loan Amount ($100K)', color=color, fontsize=20)\n",
    "ax1.plot(df_averages.index, df_averages['loan_amount_000s'], color=color)\n",
    "ax1.tick_params(axis='y', labelcolor=color)\n",
    "plt.ylim(0,300)\n",
    "\n",
    "ax2 = ax1.twinx()  # instantiate a second axes that shares the same x-axis\n",
    "plt.xticks(df_averages.index)\n",
    "\n",
    "color = 'tab:red'\n",
    "ax2.set_ylabel('Applicant Income ($100K)', color=color, fontsize=20)  # we already handled the x-label with ax1\n",
    "ax2.plot(df_averages.index, df_averages['applicant_income_000s'], color=color)\n",
    "ax2.tick_params(axis='y', labelcolor=color)\n",
    "plt.ylim(0,300)\n",
    "\n",
    "\n",
    "#fig.tight_layout()  # otherwise the right y-label is slightly clipped\n",
    "plt.savefig('Financials.png')\n",
    "plt.show()"
   ]
  },
  {
   "cell_type": "code",
   "execution_count": 75,
   "metadata": {},
   "outputs": [
    {
     "data": {
      "image/png": "[encoded data removed]",
      "text/plain": [
       "<Figure size 720x432 with 1 Axes>"
      ]
     },
     "metadata": {},
     "output_type": "display_data"
    }
   ],
   "source": [
    "fig, ax1 = plt.subplots(figsize=(10,6))\n",
    "\n",
    "ax1.set_title('Loan to Income Ratio by Year',fontsize=24)\n",
    "\n",
    "color = 'tab:blue'\n",
    "ax1.set_xlabel('Year', fontsize=20)\n",
    "ax1.set_ylabel('Loan to Income Ratio', color=color, fontsize=20)\n",
    "ax1.plot(df_averages.index, df_averages['loan_to_income_ratio'], color=color)\n",
    "ax1.tick_params(axis='y', labelcolor=color)\n",
    "plt.ylim(0,3)\n",
    "\n",
    "plt.xticks(df_averages.index)\n",
    "\n",
    "#fig.tight_layout()  # otherwise the right y-label is slightly clipped\n",
    "plt.savefig('LoanToIncome.png')\n",
    "plt.show()"
   ]
  },
  {
   "cell_type": "code",
   "execution_count": null,
   "metadata": {},
   "outputs": [],
   "source": []
  }
 ],
 "metadata": {
  "kernelspec": {
   "display_name": "conda_python3",
   "language": "python",
   "name": "conda_python3"
  },
  "language_info": {
   "codemirror_mode": {
    "name": "ipython",
    "version": 3
   },
   "file_extension": ".py",
   "mimetype": "text/x-python",
   "name": "python",
   "nbconvert_exporter": "python",
   "pygments_lexer": "ipython3",
   "version": "3.6.5"
  }
 },
 "nbformat": 4,
 "nbformat_minor": 4
}
