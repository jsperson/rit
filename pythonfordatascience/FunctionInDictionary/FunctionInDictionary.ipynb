{
 "cells": [
  {
   "cell_type": "code",
   "execution_count": 22,
   "metadata": {},
   "outputs": [
    {
     "name": "stdout",
     "output_type": "stream",
     "text": [
      "{<function hi at 0x7f00a0191ae8>: 0}\n",
      "hi\n",
      "{<function hi at 0x7f00a0191ae8>: 1}\n"
     ]
    }
   ],
   "source": [
    "def hi():\n",
    "    print('hi')\n",
    "\n",
    "funcs = {hi: 0}\n",
    "\n",
    "print(funcs)\n",
    "# {<function hi at 0x10fb39950>: 0}\n",
    "\n",
    "for func in funcs:\n",
    "    func()\n",
    "    # hi\n",
    "    funcs[func] += 1\n",
    "\n",
    "print(funcs)\n",
    "# {<function hi at 0x10fb39950>: 1}"
   ]
  },
  {
   "cell_type": "markdown",
   "metadata": {},
   "source": [
    "# Demonstrate storing function name and parameters in a dictionary"
   ]
  },
  {
   "cell_type": "code",
   "execution_count": 23,
   "metadata": {},
   "outputs": [
    {
     "name": "stdout",
     "output_type": "stream",
     "text": [
      "21\n",
      "1\n"
     ]
    }
   ],
   "source": [
    "def add(x):\n",
    "    return(sum(x))\n",
    "\n",
    "def subtract(x):\n",
    "    return(x[0] - x[1])\n",
    "\n",
    "functions = {add:[1,2,3,4,5,6], subtract:[2,1]}\n",
    "\n",
    "for function,parameters in functions.items():\n",
    "    print(function(parameters))"
   ]
  },
  {
   "cell_type": "code",
   "execution_count": null,
   "metadata": {},
   "outputs": [],
   "source": []
  }
 ],
 "metadata": {
  "kernelspec": {
   "display_name": "conda_python3",
   "language": "python",
   "name": "conda_python3"
  },
  "language_info": {
   "codemirror_mode": {
    "name": "ipython",
    "version": 3
   },
   "file_extension": ".py",
   "mimetype": "text/x-python",
   "name": "python",
   "nbconvert_exporter": "python",
   "pygments_lexer": "ipython3",
   "version": "3.6.5"
  }
 },
 "nbformat": 4,
 "nbformat_minor": 2
}
